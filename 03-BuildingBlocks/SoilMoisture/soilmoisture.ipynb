{
 "cells": [
  {
   "cell_type": "markdown",
   "metadata": {},
   "source": [
    "# Streaming Soil Grids Building Blocks\n",
    "\n",
    "**Author:** [Taimur Khan](https://www.ufz.de/index.php?en=49404)\n",
    "\n",
    "**Date:** 2025-02-20"
   ]
  },
  {
   "cell_type": "markdown",
   "metadata": {},
   "source": []
  }
 ],
 "metadata": {
  "language_info": {
   "name": "python"
  }
 },
 "nbformat": 4,
 "nbformat_minor": 2
}
