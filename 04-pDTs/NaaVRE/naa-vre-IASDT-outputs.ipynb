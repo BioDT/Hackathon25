{
 "cells": [
  {
   "cell_type": "markdown",
   "metadata": {},
   "source": [
    "# Data Streaming Invasive Alien Species Digital Twin Outputs\n",
    "\n",
    "**Author**: [Taimur Khan](https://www.ufz.de/index.php?en=49404), Helmholtz Centre for Environmental Research - UFZ, Germany\n",
    "\n",
    "**Date**: 2025-02-20\n",
    "\n",
    "## Purpose\n",
    "\n",
    "The purpose of this notebook is to demonstrate how to stream the outputs of the Invasive Alien Species Digital Twin from the [BioDT OPenDAP service](http://opendap.biodt.eu). The outputs are streamed in real-time using `rioxarray` and visualized using the `matplotlib` library.\n",
    "\n",
    "The notebook has been parameterized using Jupyter Widgets to allow the user to select the desired habitat, climate model, climate scenario, and time period parameters for querying the desired dataset. \n",
    "\n",
    "The notebook is divided into the following sections:\n",
    "- [1. Import Libraries](#1.-Import-Libraries)\n",
    "- [2. Define Parameters](#2.-Define-Parameters)\n",
    "- [3. Query URL](#3.-Query-Data)\n",
    "- [4. Stream Data](#4.-Stream-Data)\n",
    "- [5. Visualize Data](#5.-Visualize-Data)\n",
    "- [6. Download Data (optional)](#6.-Download)"
   ]
  },
  {
   "cell_type": "markdown",
   "metadata": {},
   "source": [
    "## 1. Import Libraries"
   ]
  },
  {
   "cell_type": "markdown",
   "metadata": {},
   "source": [
    "If you do not have the required libraries installed, you can install them by running the following cell:"
   ]
  },
  {
   "cell_type": "code",
   "execution_count": 5,
   "metadata": {},
   "outputs": [
    {
     "name": "stdout",
     "output_type": "stream",
     "text": [
      "Collecting rioxarray\n",
      "  Using cached rioxarray-0.15.0-py3-none-any.whl (53 kB)\n",
      "Collecting matplotlib\n",
      "  Using cached matplotlib-3.9.4-cp39-cp39-manylinux_2_17_x86_64.manylinux2014_x86_64.whl (8.3 MB)\n",
      "Collecting pandas\n",
      "  Using cached pandas-2.2.3-cp39-cp39-manylinux_2_17_x86_64.manylinux2014_x86_64.whl (13.1 MB)\n",
      "Collecting matplotlib_scalebar\n",
      "  Using cached matplotlib_scalebar-0.9.0-py3-none-any.whl (16 kB)\n",
      "Collecting ipywidgets\n",
      "  Using cached ipywidgets-8.1.5-py3-none-any.whl (139 kB)\n",
      "Collecting pyproj>=2.2\n",
      "  Using cached pyproj-3.6.1-cp39-cp39-manylinux_2_17_x86_64.manylinux2014_x86_64.whl (8.3 MB)\n",
      "Collecting xarray>=0.17\n",
      "  Using cached xarray-2024.7.0-py3-none-any.whl (1.2 MB)\n",
      "Collecting rasterio>=1.2\n",
      "  Using cached rasterio-1.4.3-cp39-cp39-manylinux_2_17_x86_64.manylinux2014_x86_64.whl (22.2 MB)\n",
      "Collecting numpy>=1.21\n",
      "  Using cached numpy-2.0.2-cp39-cp39-manylinux_2_17_x86_64.manylinux2014_x86_64.whl (19.5 MB)\n",
      "Requirement already satisfied: packaging in /opt/conda/lib/python3.9/site-packages (from rioxarray) (21.2)\n",
      "Collecting fonttools>=4.22.0\n",
      "  Using cached fonttools-4.56.0-cp39-cp39-manylinux_2_17_x86_64.manylinux2014_x86_64.whl (4.6 MB)\n",
      "Requirement already satisfied: python-dateutil>=2.7 in /opt/conda/lib/python3.9/site-packages (from matplotlib) (2.8.2)\n",
      "Collecting contourpy>=1.0.1\n",
      "  Using cached contourpy-1.3.0-cp39-cp39-manylinux_2_17_x86_64.manylinux2014_x86_64.whl (321 kB)\n",
      "Requirement already satisfied: pyparsing>=2.3.1 in /opt/conda/lib/python3.9/site-packages (from matplotlib) (2.4.7)\n",
      "Collecting pillow>=8\n",
      "  Using cached pillow-11.1.0-cp39-cp39-manylinux_2_28_x86_64.whl (4.5 MB)\n",
      "Collecting kiwisolver>=1.3.1\n",
      "  Using cached kiwisolver-1.4.7-cp39-cp39-manylinux_2_12_x86_64.manylinux2010_x86_64.whl (1.6 MB)\n",
      "Collecting cycler>=0.10\n",
      "  Using cached cycler-0.12.1-py3-none-any.whl (8.3 kB)\n",
      "Requirement already satisfied: importlib-resources>=3.2.0 in /opt/conda/lib/python3.9/site-packages (from matplotlib) (5.4.0)\n",
      "Collecting tzdata>=2022.7\n",
      "  Using cached tzdata-2025.1-py2.py3-none-any.whl (346 kB)\n",
      "Requirement already satisfied: pytz>=2020.1 in /opt/conda/lib/python3.9/site-packages (from pandas) (2021.3)\n",
      "Collecting widgetsnbextension~=4.0.12\n",
      "  Using cached widgetsnbextension-4.0.13-py3-none-any.whl (2.3 MB)\n",
      "Requirement already satisfied: ipython>=6.1.0 in /opt/conda/lib/python3.9/site-packages (from ipywidgets) (7.29.0)\n",
      "Collecting jupyterlab-widgets~=3.0.12\n",
      "  Using cached jupyterlab_widgets-3.0.13-py3-none-any.whl (214 kB)\n",
      "Collecting comm>=0.1.3\n",
      "  Using cached comm-0.2.2-py3-none-any.whl (7.2 kB)\n",
      "Requirement already satisfied: traitlets>=4.3.1 in /opt/conda/lib/python3.9/site-packages (from ipywidgets) (5.1.1)\n",
      "Requirement already satisfied: zipp>=3.1.0 in /opt/conda/lib/python3.9/site-packages (from importlib-resources>=3.2.0->matplotlib) (3.6.0)\n",
      "Requirement already satisfied: prompt-toolkit!=3.0.0,!=3.0.1,<3.1.0,>=2.0.0 in /opt/conda/lib/python3.9/site-packages (from ipython>=6.1.0->ipywidgets) (3.0.21)\n",
      "Requirement already satisfied: setuptools>=18.5 in /opt/conda/lib/python3.9/site-packages (from ipython>=6.1.0->ipywidgets) (58.3.0)\n",
      "Requirement already satisfied: pygments in /opt/conda/lib/python3.9/site-packages (from ipython>=6.1.0->ipywidgets) (2.10.0)\n",
      "Requirement already satisfied: backcall in /opt/conda/lib/python3.9/site-packages (from ipython>=6.1.0->ipywidgets) (0.2.0)\n",
      "Requirement already satisfied: decorator in /opt/conda/lib/python3.9/site-packages (from ipython>=6.1.0->ipywidgets) (5.1.0)\n",
      "Requirement already satisfied: jedi>=0.16 in /opt/conda/lib/python3.9/site-packages (from ipython>=6.1.0->ipywidgets) (0.18.0)\n",
      "Requirement already satisfied: pexpect>4.3 in /opt/conda/lib/python3.9/site-packages (from ipython>=6.1.0->ipywidgets) (4.8.0)\n",
      "Requirement already satisfied: pickleshare in /opt/conda/lib/python3.9/site-packages (from ipython>=6.1.0->ipywidgets) (0.7.5)\n",
      "Requirement already satisfied: matplotlib-inline in /opt/conda/lib/python3.9/site-packages (from ipython>=6.1.0->ipywidgets) (0.1.3)\n",
      "Requirement already satisfied: certifi in /opt/conda/lib/python3.9/site-packages (from pyproj>=2.2->rioxarray) (2021.10.8)\n",
      "Requirement already satisfied: six>=1.5 in /opt/conda/lib/python3.9/site-packages (from python-dateutil>=2.7->matplotlib) (1.16.0)\n",
      "Collecting click-plugins\n",
      "  Using cached click_plugins-1.1.1-py2.py3-none-any.whl (7.5 kB)\n",
      "Collecting cligj>=0.5\n",
      "  Using cached cligj-0.7.2-py3-none-any.whl (7.1 kB)\n",
      "Collecting click>=4.0\n",
      "  Using cached click-8.1.8-py3-none-any.whl (98 kB)\n",
      "Requirement already satisfied: attrs in /opt/conda/lib/python3.9/site-packages (from rasterio>=1.2->rioxarray) (21.2.0)\n",
      "Requirement already satisfied: importlib-metadata in /opt/conda/lib/python3.9/site-packages (from rasterio>=1.2->rioxarray) (4.8.1)\n",
      "Collecting affine\n",
      "  Using cached affine-2.4.0-py3-none-any.whl (15 kB)\n",
      "Collecting packaging\n",
      "  Using cached packaging-24.2-py3-none-any.whl (65 kB)\n",
      "Requirement already satisfied: parso<0.9.0,>=0.8.0 in /opt/conda/lib/python3.9/site-packages (from jedi>=0.16->ipython>=6.1.0->ipywidgets) (0.8.2)\n",
      "Requirement already satisfied: ptyprocess>=0.5 in /opt/conda/lib/python3.9/site-packages (from pexpect>4.3->ipython>=6.1.0->ipywidgets) (0.7.0)\n",
      "Requirement already satisfied: wcwidth in /opt/conda/lib/python3.9/site-packages (from prompt-toolkit!=3.0.0,!=3.0.1,<3.1.0,>=2.0.0->ipython>=6.1.0->ipywidgets) (0.2.5)\n",
      "Installing collected packages: tzdata, numpy, click, pillow, pandas, packaging, kiwisolver, fonttools, cycler, contourpy, cligj, click-plugins, affine, xarray, widgetsnbextension, rasterio, pyproj, matplotlib, jupyterlab-widgets, comm, rioxarray, matplotlib-scalebar, ipywidgets\n",
      "  Attempting uninstall: packaging\n",
      "    Found existing installation: packaging 21.2\n",
      "    Uninstalling packaging-21.2:\n",
      "      Successfully uninstalled packaging-21.2\n",
      "Successfully installed affine-2.4.0 click-8.1.8 click-plugins-1.1.1 cligj-0.7.2 comm-0.2.2 contourpy-1.3.0 cycler-0.12.1 fonttools-4.56.0 ipywidgets-8.1.5 jupyterlab-widgets-3.0.13 kiwisolver-1.4.7 matplotlib-3.9.4 matplotlib-scalebar-0.9.0 numpy-2.0.2 packaging-24.2 pandas-2.2.3 pillow-11.1.0 pyproj-3.6.1 rasterio-1.4.3 rioxarray-0.15.0 tzdata-2025.1 widgetsnbextension-4.0.13 xarray-2024.7.0\n"
     ]
    }
   ],
   "source": [
    "!pip install rioxarray matplotlib pandas matplotlib_scalebar ipywidgets"
   ]
  },
  {
   "cell_type": "markdown",
   "metadata": {},
   "source": [
    "Otherwise just import the following:"
   ]
  },
  {
   "cell_type": "code",
   "execution_count": 6,
   "metadata": {},
   "outputs": [],
   "source": [
    "import pandas as pd\n",
    "import ipywidgets as widgets\n",
    "from IPython.display import display\n",
    "import rioxarray\n",
    "import matplotlib.pyplot as plt\n",
    "from matplotlib_scalebar.scalebar import ScaleBar\n",
    "import matplotlib.patches as mpatches"
   ]
  },
  {
   "cell_type": "code",
   "execution_count": 7,
   "metadata": {},
   "outputs": [
    {
     "name": "stdout",
     "output_type": "stream",
     "text": [
      "Select a habitat type from the dropdown list:\n",
      "Selected Habitat Abbreviation: 4b\n"
     ]
    }
   ],
   "source": [
    "# A-Selecte Habitat\n",
    "url = \"http://opendap.biodt.eu/ias-pdt/0/outputs/key.csv\"\n",
    "df_hab = pd.read_csv(url)\n",
    "\n",
    "# Display the dropdown widget\n",
    "print(\"Select a habitat type from the dropdown list:\")\n",
    "\n",
    "\n",
    "# Get the corresponding value for hab_abb for the selected hab_name\n",
    "selected_hab_abb = '1'\n",
    "param_habitat_type = 'human_maintained_grasslands'\n",
    "conf_data_path = '/tmp/data/'\n",
    "selected_hab_abb = str(df_hab[df_hab[\"hab_name\"] == param_habitat_type][\"hab_abb\"].values[0])\n",
    "\n",
    "print(f\"Selected Habitat Abbreviation: {selected_hab_abb}\")\n",
    "\n"
   ]
  },
  {
   "cell_type": "markdown",
   "metadata": {},
   "source": [
    "### Select Climate Model, Scenario, and Species"
   ]
  },
  {
   "cell_type": "code",
   "execution_count": 8,
   "metadata": {},
   "outputs": [
    {
     "name": "stdout",
     "output_type": "stream",
     "text": [
      "Human maintained grasslands\n"
     ]
    }
   ],
   "source": [
    "# B-Load the remote txt file as dataframe\n",
    "url_txt = f\"http://opendap.biodt.eu/ias-pdt/0/outputs/hab{selected_hab_abb}/predictions/Prediction_Summary_Shiny.txt\"\n",
    "df_mod = pd.read_csv(url_txt, sep=\"\\t\")\n",
    "\n",
    "# Create dropdown widgets with added space\n",
    "habitat_dropdown = widgets.Dropdown(\n",
    "    options=df_mod[\n",
    "        \"hab_name\"\n",
    "    ].unique(),  # Replace 'column_name' with the actual column name you want to use\n",
    "    description=\"Habitat Type:\",\n",
    "    disabled=False,\n",
    "    layout=widgets.Layout(margin=\"0 0 0 0px\"),\n",
    ")\n",
    "\n",
    "climate_model_dropdown = widgets.Dropdown(\n",
    "    options=df_mod[\"climate_model\"].unique(),\n",
    "    description=\"Climate Model:\",\n",
    "    disabled=False,\n",
    "    layout=widgets.Layout(margin='0 0 0 0px')\n",
    ")\n",
    "\n",
    "climate_model_dropdown.options = list(climate_model_dropdown.options) + [\"Ensemble\"]\n",
    "\n",
    "\n",
    "climate_scenario_dropdown = widgets.Dropdown(\n",
    "    options=df_mod[\"climate_scenario\"].unique(),\n",
    "    description=\"Climate Scenario:\",\n",
    "    disabled=False,\n",
    "    layout=widgets.Layout(margin='0 0 0 0px')\n",
    ")\n",
    "\n",
    "time_period_dropdown = widgets.Dropdown(\n",
    "    options=df_mod[\"time_period\"].unique(),\n",
    "    description=\"Time Period:\",\n",
    "    disabled=False,\n",
    "    layout=widgets.Layout(margin='0 0 0 0px')\n",
    ")\n",
    "\n",
    "species_name_dropdown = widgets.Dropdown(\n",
    "    options=df_mod[\"species_name\"].dropna().unique(),\n",
    "    description=\"Species Name:\",\n",
    "    disabled=False,\n",
    ") \n",
    "\n",
    "param_habitat_name =  'Human maintained grasslands'\n",
    "param_climate_model = 'Current'\n",
    "param_climate_scenario = 'Current'\n",
    "param_time_period = '1981-2010'\n",
    "param_species_name = 'Agave americana' \n",
    "\n",
    "\n",
    "conf_x =  0.95\n",
    "conf_y =  0.95\n",
    "conf_arrow_length = 0.1\n"
   ]
  },
  {
   "cell_type": "markdown",
   "metadata": {},
   "source": [
    "## 3. Query URL"
   ]
  },
  {
   "cell_type": "code",
   "execution_count": 5,
   "metadata": {},
   "outputs": [],
   "source": [
    "# C-Query URL\n",
    "url_txt = f\"http://opendap.biodt.eu/ias-pdt/0/outputs/hab{selected_hab_abb}/predictions/Prediction_Summary_Shiny.txt\"\n",
    "df_mod = pd.read_csv(url_txt, sep=\"\\t\")\n",
    "\n",
    "hab_num = df_mod[df_mod[\"hab_name\"] == param_habitat_name][\"hab_abb\"].values[0]\n",
    "tif_path_mean = df_mod[\n",
    "    (df_mod[\"hab_abb\"] == hab_num) &\n",
    "    (df_mod[\"climate_model\"] == param_climate_model) &\n",
    "    (df_mod[\"climate_scenario\"] == param_climate_scenario) &\n",
    "    (df_mod[\"time_period\"] == param_time_period) &\n",
    "    (df_mod[\"species_name\"] == param_species_name)\n",
    "][\"tif_path_mean\"].values[0]\n",
    "\n",
    "tif_path_sd = df_mod[\n",
    "    (df_mod[\"hab_abb\"] == hab_num)\n",
    "    & (df_mod[\"climate_model\"] == param_climate_model)\n",
    "    & (df_mod[\"climate_scenario\"] == param_climate_scenario)\n",
    "    & (df_mod[\"time_period\"] == param_time_period)\n",
    "    & (df_mod[\"species_name\"] == param_species_name)\n",
    "][\"tif_path_sd\"].values[0]\n",
    "\n",
    "tif_path_cov = df_mod[\n",
    "    (df_mod[\"hab_abb\"] == hab_num)\n",
    "    & (df_mod[\"climate_model\"] == param_climate_model)\n",
    "    & (df_mod[\"climate_scenario\"] == param_climate_scenario)\n",
    "    & (df_mod[\"time_period\"] == param_time_period)\n",
    "    & (df_mod[\"species_name\"] == param_species_name)\n",
    "][\"tif_path_cov\"].values[0]\n",
    "\n",
    "tif_path_anomaly = df_mod[\n",
    "    (df_mod[\"hab_abb\"] == hab_num)\n",
    "    & (df_mod[\"climate_model\"] == param_climate_model)\n",
    "    & (df_mod[\"climate_scenario\"] == param_climate_scenario)\n",
    "    & (df_mod[\"time_period\"] == param_time_period)\n",
    "    & (df_mod[\"species_name\"] == param_species_name)\n",
    "][\"tif_path_anomaly\"].values[0]\n",
    "\n",
    "mean_url = f\"http://opendap.biodt.eu/ias-pdt/0/outputs/hab{hab_num}/predictions/{tif_path_mean}\"\n",
    "sd_url = f\"http://opendap.biodt.eu/ias-pdt/0/outputs/hab{hab_num}/predictions/{tif_path_sd}\"\n",
    "cov_url = f\"http://opendap.biodt.eu/ias-pdt/0/outputs/hab{hab_num}/predictions/{tif_path_cov}\"\n",
    "anomaly_url = f\"http://opendap.biodt.eu/ias-pdt/0/outputs/hab{hab_num}/predictions/{tif_path_anomaly}\""
   ]
  },
  {
   "cell_type": "code",
   "execution_count": 6,
   "metadata": {},
   "outputs": [
    {
     "name": "stdout",
     "output_type": "stream",
     "text": [
      "http://opendap.biodt.eu/ias-pdt/0/outputs/hab4b/predictions/Current/Sp_0025_mean.tif\n",
      "http://opendap.biodt.eu/ias-pdt/0/outputs/hab4b/predictions/Current/Sp_0025_sd.tif\n",
      "http://opendap.biodt.eu/ias-pdt/0/outputs/hab4b/predictions/Current/Sp_0025_cov.tif\n",
      "http://opendap.biodt.eu/ias-pdt/0/outputs/hab4b/predictions/nan\n"
     ]
    }
   ],
   "source": [
    "print(mean_url)\n",
    "print(sd_url)\n",
    "print(cov_url)\n",
    "print(anomaly_url)\n"
   ]
  },
  {
   "cell_type": "markdown",
   "metadata": {},
   "source": [
    "## 4. Stream Data"
   ]
  },
  {
   "cell_type": "markdown",
   "metadata": {},
   "source": [
    "## 5. Visualize Data"
   ]
  },
  {
   "cell_type": "code",
   "execution_count": 7,
   "metadata": {},
   "outputs": [
    {
     "name": "stderr",
     "output_type": "stream",
     "text": [
      "Warning 1: HTTP response code on http://opendap.biodt.eu/ias-pdt/0/outputs/hab4b/predictions/Current/Sp_0025_mean.tif.msk: 502\n",
      "Warning 1: HTTP response code on http://opendap.biodt.eu/ias-pdt/0/outputs/hab4b/predictions/Current/Sp_0025_mean.tif.MSK: 502\n",
      "/opt/conda/lib/python3.9/site-packages/matplotlib_scalebar/scalebar.py:457: UserWarning: Drawing scalebar on axes with unequal aspect ratio; either call ax.set_aspect(1) or suppress the warning with rotation='horizontal-only'.\n",
      "  warnings.warn(\n"
     ]
    }
   ],
   "source": [
    "# D-Plot Mean\n",
    "fig, ax = plt.subplots(figsize=(10, 8))\n",
    "data_mean = rioxarray.open_rasterio(mean_url)\n",
    "data_mean.plot(ax=ax, cmap=\"Spectral\")\n",
    "image_name = f\"Mean Species Distribution for {param_species_name} in {param_habitat_name} for {param_time_period} and {param_climate_model} {param_climate_scenario}\"\n",
    "plt.title(image_name)\n",
    "\n",
    "# Add grid lines\n",
    "ax.grid(True, linestyle='--', linewidth=0.5)\n",
    "\n",
    "# Add a scale bar\n",
    "scalebar = ScaleBar(1, location='upper right')  # 1 pixel = 1 unit\n",
    "ax.add_artist(scalebar)\n",
    "\n",
    "# Add a north arrow\n",
    "ax.annotate('N', xy=(conf_x, conf_y), xytext=(conf_x, conf_y-conf_arrow_length),\n",
    "            arrowprops=dict(facecolor='black', width=5, headwidth=15),\n",
    "            ha='center', va='center', fontsize=12,\n",
    "            xycoords=ax.transAxes)\n",
    "\n",
    "# plt.show()\n",
    "\n",
    "# Save the figure\n",
    "plt.savefig(conf_data_path+image_name)\n",
    "plt.close()"
   ]
  },
  {
   "cell_type": "code",
   "execution_count": 8,
   "metadata": {},
   "outputs": [
    {
     "name": "stderr",
     "output_type": "stream",
     "text": [
      "Warning 1: HTTP response code on http://opendap.biodt.eu/ias-pdt/0/outputs/hab4b/predictions/Current/Sp_0025_sd.tif.msk: 502\n",
      "Warning 1: HTTP response code on http://opendap.biodt.eu/ias-pdt/0/outputs/hab4b/predictions/Current/Sp_0025_sd.tif.MSK: 502\n",
      "/opt/conda/lib/python3.9/site-packages/matplotlib_scalebar/scalebar.py:457: UserWarning: Drawing scalebar on axes with unequal aspect ratio; either call ax.set_aspect(1) or suppress the warning with rotation='horizontal-only'.\n",
      "  warnings.warn(\n"
     ]
    }
   ],
   "source": [
    "# E-Plot stdev\n",
    "fig, ax = plt.subplots(figsize=(10, 8))\n",
    "data_sd = rioxarray.open_rasterio(sd_url)\n",
    "data_sd.plot(ax=ax, cmap=\"Spectral\")\n",
    "image_name = f\"Standard Deviation of {param_species_name} distribution for {param_climate_model} {param_climate_scenario} {param_time_period}\"\n",
    "plt.title(image_name)\n",
    "\n",
    "# Add grid lines\n",
    "ax.grid(True, linestyle='--', linewidth=0.5)\n",
    "\n",
    "# Add a scale bar\n",
    "scalebar = ScaleBar(1, location='upper right')  # 1 pixel = 1 unit\n",
    "ax.add_artist(scalebar)\n",
    "\n",
    "# Add a north arrow\n",
    "ax.annotate('N', xy=(conf_x, conf_y), xytext=(conf_x, conf_y-conf_arrow_length),\n",
    "            arrowprops=dict(facecolor='black', width=5, headwidth=15),\n",
    "            ha='center', va='center', fontsize=12,\n",
    "            xycoords=ax.transAxes)\n",
    "plt.savefig(conf_data_path+image_name)\n",
    "plt.close()\n",
    "\n"
   ]
  },
  {
   "cell_type": "code",
   "execution_count": 9,
   "metadata": {},
   "outputs": [
    {
     "name": "stderr",
     "output_type": "stream",
     "text": [
      "Warning 1: HTTP response code on http://opendap.biodt.eu/ias-pdt/0/outputs/hab4b/predictions/Current/Sp_0025_cov.tif.msk: 502\n",
      "Warning 1: HTTP response code on http://opendap.biodt.eu/ias-pdt/0/outputs/hab4b/predictions/Current/Sp_0025_cov.tif.MSK: 502\n",
      "/opt/conda/lib/python3.9/site-packages/matplotlib_scalebar/scalebar.py:457: UserWarning: Drawing scalebar on axes with unequal aspect ratio; either call ax.set_aspect(1) or suppress the warning with rotation='horizontal-only'.\n",
      "  warnings.warn(\n"
     ]
    }
   ],
   "source": [
    "# F-Plot Coefficient\n",
    "fig, ax = plt.subplots(figsize=(10, 8))\n",
    "data_cov = rioxarray.open_rasterio(cov_url)\n",
    "data_cov.plot(ax=ax, cmap=\"Spectral\")\n",
    "image_name = f\"Coefficient of Variation of {param_species_name} distribution for {param_climate_model} {param_climate_scenario} {param_time_period}\"\n",
    "plt.title(image_name)\n",
    "\n",
    "# Add grid lines\n",
    "ax.grid(True, linestyle='--', linewidth=0.5)\n",
    "\n",
    "# Add a scale bar\n",
    "scalebar = ScaleBar(1, location='upper right')  # 1 pixel = 1 unit\n",
    "ax.add_artist(scalebar)\n",
    "\n",
    "# Add a north arrow\n",
    "ax.annotate('N', xy=(conf_x, conf_y), xytext=(conf_x, conf_y-conf_arrow_length),\n",
    "            arrowprops=dict(facecolor='black', width=5, headwidth=15),\n",
    "            ha='center', va='center', fontsize=12,\n",
    "            xycoords=ax.transAxes)\n",
    "\n",
    "plt.savefig(conf_data_path+image_name)\n",
    "plt.close()"
   ]
  },
  {
   "cell_type": "code",
   "execution_count": 10,
   "metadata": {},
   "outputs": [
    {
     "name": "stdout",
     "output_type": "stream",
     "text": [
      "Anomaly map does not exist for the current selection\n"
     ]
    }
   ],
   "source": [
    "# G-Ploat Anomaly\n",
    "if \"nan\" not in anomaly_url:\n",
    "    data_anomaly = rioxarray.open_rasterio(anomaly_url)\n",
    "    fig, ax = plt.subplots(figsize=(10, 8))\n",
    "    data_anomaly.plot(ax=ax, cmap=\"Spectral\")\n",
    "    image_name = f\"Anomaly of {param_species_name} distribution for {param_climate_model} {param_climate_scenario} {param_time_period}\"\n",
    "    plt.title(image_name)\n",
    "\n",
    "    # Add grid lines\n",
    "    ax.grid(True, linestyle='--', linewidth=0.5)\n",
    "\n",
    "    # Add a scale bar\n",
    "    scalebar = ScaleBar(1, location='upper right')  # 1 pixel = 1 unit\n",
    "    ax.add_artist(scalebar)\n",
    "\n",
    "    # Add a north arrow\n",
    "    ax.annotate('N', xy=(conf_x, conf_y), xytext=(conf_x, conf_y-conf_arrow_length),\n",
    "                arrowprops=dict(facecolor='black', width=5, headwidth=15),\n",
    "                ha='center', va='center', fontsize=12,\n",
    "                xycoords=ax.transAxes)\n",
    "\n",
    "    # plt.show()\n",
    "    plt.savefig(conf_data_path+image_name)\n",
    "    plt.close()\n",
    "else:\n",
    "    print(\"Anomaly map does not exist for the current selection\")"
   ]
  },
  {
   "cell_type": "code",
   "execution_count": null,
   "metadata": {},
   "outputs": [],
   "source": []
  }
 ],
 "metadata": {
  "kernelspec": {
   "display_name": "Python [conda env:root]",
   "language": "python",
   "name": "conda-root-py"
  },
  "language_info": {
   "codemirror_mode": {
    "name": "ipython",
    "version": 3
   },
   "file_extension": ".py",
   "mimetype": "text/x-python",
   "name": "python",
   "nbconvert_exporter": "python",
   "pygments_lexer": "ipython3",
   "version": "3.9.7"
  }
 },
 "nbformat": 4,
 "nbformat_minor": 4
}
