{
 "cells": [
  {
   "cell_type": "markdown",
   "id": "f8fe5e8d-878c-416f-9e25-b993a8a975d6",
   "metadata": {},
   "source": [
    "# BioDT School and Hackathon 2025"
   ]
  },
  {
   "cell_type": "markdown",
   "id": "fc77f24b-570a-4a15-90e9-8f993647e853",
   "metadata": {},
   "source": [
    "## Introduction to HPC and LUMI\n",
    "\n",
    "- [Running jobs on LUMI](01-LUMI/jobs.ipynb)"
   ]
  }
 ],
 "metadata": {
  "kernelspec": {
   "display_name": "Python 3 (ipykernel)",
   "language": "python",
   "name": "python3"
  },
  "language_info": {
   "codemirror_mode": {
    "name": "ipython",
    "version": 3
   },
   "file_extension": ".py",
   "mimetype": "text/x-python",
   "name": "python",
   "nbconvert_exporter": "python",
   "pygments_lexer": "ipython3",
   "version": "3.12.9"
  }
 },
 "nbformat": 4,
 "nbformat_minor": 5
}
