{
 "cells": [
  {
   "cell_type": "markdown",
   "id": "ea0df8ac-93e2-44ea-9a70-69bc51044eaa",
   "metadata": {},
   "source": [
    "# Running jobs on LUMI"
   ]
  },
  {
   "cell_type": "markdown",
   "id": "f532609e-2bdd-426a-82e6-3039e36a12f7",
   "metadata": {},
   "source": [
    "Supercomputer is a shared resources and computations are submitted to a job queuing system. LUMI uses [Slurm job scheduling system](https://slurm.schedmd.com/quickstart.html) that is demonstrated here."
   ]
  },
  {
   "cell_type": "markdown",
   "id": "f58cb36b-ae80-4762-9495-78d79bd2aeab",
   "metadata": {},
   "source": [
    "A job is defined by a job script. Please check the example job script: [job.sh](job.sh). This script has two sections:\n",
    "1. First lines starting with `#SBATCH`. These define the resources reserved for the job (maximum run time, number of CPU cores, ...).\n",
    "2. After `#SBATCH` section, a list of commands that will be run when the job starts. In this example, a Python script [script.py](script.py) is executed.\n",
    "\n",
    "The job script will be submitted to the queue with `sbatch` command:"
   ]
  },
  {
   "cell_type": "code",
   "execution_count": null,
   "id": "1defbc46-fea3-40c3-9a1f-cc488a17cb4a",
   "metadata": {},
   "outputs": [],
   "source": [
    "!sbatch job.sh"
   ]
  },
  {
   "cell_type": "markdown",
   "id": "0bf4f3ea-6c47-45c1-ab0d-625f3d95a648",
   "metadata": {},
   "source": [
    "The output `Submitted batch job 12345678` gives the unique **job id** for your job (`12345678` in this example). "
   ]
  },
  {
   "cell_type": "markdown",
   "id": "b3712623-7c6b-4d37-8606-8e8a496117ea",
   "metadata": {},
   "source": [
    "We can monitor the active jobs in the queue using `squeue` command:"
   ]
  },
  {
   "cell_type": "code",
   "execution_count": null,
   "id": "1e838735-0705-47f1-ad79-6badddeee57e",
   "metadata": {},
   "outputs": [],
   "source": [
    "!squeue --me"
   ]
  },
  {
   "cell_type": "markdown",
   "id": "cacb0fdd-873c-43b1-ada0-b0c4a452336d",
   "metadata": {},
   "source": [
    "The output is a table with two jobs:\n",
    "1. This jupyter notebook session\n",
    "2. The just submitted job (unless it finished already)\n",
    "\n",
    "Please wait and re-execute the `squeue` command until you see that the job submitted above has finished (not in the list anymore)."
   ]
  },
  {
   "cell_type": "markdown",
   "id": "fefbe5df-f1d4-4c8a-be84-f030866ce8d7",
   "metadata": {},
   "source": [
    "The output of the job goes to files:\n",
    "1. The standard text output (`print` statements in Python) is in the file [test-output.txt](test-output.txt) (the file name can be changed in the script [job.sh](job.sh)).\n",
    "2. The data file [data.txt](data.txt) and plot [data.png](data.png) created by the executed Python script\n",
    "3. Any other files the executed scripts migh create\n",
    "\n",
    "Please open the created files and study their content."
   ]
  },
  {
   "cell_type": "markdown",
   "id": "1b764c24-b7ac-425d-b584-9cf6e9e8ccc5",
   "metadata": {},
   "source": [
    "We can display history of executed jobs with `sacct` command:"
   ]
  },
  {
   "cell_type": "code",
   "execution_count": null,
   "id": "9cefc5ef-a351-41e1-99e3-f0e8afcf1d85",
   "metadata": {},
   "outputs": [],
   "source": [
    "!sacct"
   ]
  },
  {
   "cell_type": "markdown",
   "id": "10b7ac78-9c8f-478c-95ba-93dba3c4d8d8",
   "metadata": {},
   "source": [
    "Further information on running jobs can be found in [the LUMI documentation](https://docs.lumi-supercomputer.eu/runjobs/)."
   ]
  },
  {
   "cell_type": "markdown",
   "id": "3c1bd9bd-f68a-4fba-b96c-cf5c86746448",
   "metadata": {},
   "source": [
    "## Visualizing data interactively"
   ]
  },
  {
   "cell_type": "markdown",
   "id": "1858f0de-e09f-46ae-9ca5-698a1b6fa2f9",
   "metadata": {},
   "source": [
    "The jobs are most useful for performing heavy computations producing data, and the data visualization can be done interactively as demonstrated here."
   ]
  },
  {
   "cell_type": "code",
   "execution_count": null,
   "id": "7dcd2eab-43a2-43a5-a25b-fd33f1d0efb7",
   "metadata": {},
   "outputs": [],
   "source": [
    "%matplotlib widget\n",
    "import numpy as np\n",
    "import matplotlib.pyplot as plt"
   ]
  },
  {
   "cell_type": "code",
   "execution_count": null,
   "id": "45d9ecf6-b43e-4df7-9cfe-ef279f76e411",
   "metadata": {},
   "outputs": [],
   "source": [
    "# Load data\n",
    "data = np.loadtxt(\"data.txt\")\n",
    "x = data[:, 0]\n",
    "y = data[:, 1]"
   ]
  },
  {
   "cell_type": "code",
   "execution_count": null,
   "id": "19f120c1-01b4-45ad-9b23-bfe13b519b07",
   "metadata": {},
   "outputs": [],
   "source": [
    "# Plot data\n",
    "plt.figure()\n",
    "plt.plot(x, y)\n",
    "plt.xlabel('X')\n",
    "plt.ylabel('Y')\n",
    "plt.show()"
   ]
  },
  {
   "cell_type": "code",
   "execution_count": null,
   "id": "53b2016c-144d-42b4-a504-81f597b32360",
   "metadata": {},
   "outputs": [],
   "source": []
  }
 ],
 "metadata": {
  "kernelspec": {
   "display_name": "Python 3 (ipykernel)",
   "language": "python",
   "name": "python3"
  },
  "language_info": {
   "codemirror_mode": {
    "name": "ipython",
    "version": 3
   },
   "file_extension": ".py",
   "mimetype": "text/x-python",
   "name": "python",
   "nbconvert_exporter": "python",
   "pygments_lexer": "ipython3",
   "version": "3.12.9"
  }
 },
 "nbformat": 4,
 "nbformat_minor": 5
}
