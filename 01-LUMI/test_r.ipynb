{
 "cells": [
  {
   "cell_type": "code",
   "execution_count": null,
   "id": "bbcf4076-0304-4c62-975b-ba67389e4215",
   "metadata": {},
   "outputs": [],
   "source": [
    "a <- 1:4\n",
    "print(a)"
   ]
  }
 ],
 "metadata": {
  "kernelspec": {
   "display_name": "R",
   "language": "R",
   "name": "ir"
  },
  "language_info": {
   "codemirror_mode": "r",
   "file_extension": ".r",
   "mimetype": "text/x-r-source",
   "name": "R",
   "pygments_lexer": "r",
   "version": "4.3.3"
  }
 },
 "nbformat": 4,
 "nbformat_minor": 5
}
