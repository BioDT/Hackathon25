{
 "cells": [
  {
   "cell_type": "markdown",
   "id": "1462327e-f0ab-4030-9866-4f236aaca207",
   "metadata": {},
   "source": [
    "# Data interchange in mixed R+Python workflows"
   ]
  },
  {
   "cell_type": "markdown",
   "id": "62c7e660-62c5-44b8-83d5-3e4390f59c2e",
   "metadata": {},
   "source": [
    "## Part 1"
   ]
  },
  {
   "cell_type": "markdown",
   "id": "a3808f0c-16a2-4d4d-a15d-8d8d5e9f75eb",
   "metadata": {},
   "source": [
    "This step is in Python. Please open [this notebook](rdata.ipynb)."
   ]
  },
  {
   "cell_type": "markdown",
   "id": "67043551-5b64-4c5c-8d7a-6ab9b70d8d19",
   "metadata": {},
   "source": [
    "## Part 2"
   ]
  },
  {
   "cell_type": "markdown",
   "id": "bbfeb444-c1a8-4bca-ab62-1445ba857659",
   "metadata": {},
   "source": [
    "Read and write data to an RDS in R."
   ]
  },
  {
   "cell_type": "code",
   "execution_count": null,
   "id": "f653f643-5e13-4a4c-85ec-201b6733ab7c",
   "metadata": {},
   "outputs": [],
   "source": [
    "# Read file generated in Python\n",
    "data <- readRDS(\"data_from_python.rds\")\n",
    "print(data)"
   ]
  },
  {
   "cell_type": "code",
   "execution_count": null,
   "id": "03f74e15-6a3d-4817-90e8-14b7839a3978",
   "metadata": {},
   "outputs": [],
   "source": [
    "# Process data\n",
    "data[[\"count\"]] = data[[\"count\"]] + 23"
   ]
  },
  {
   "cell_type": "code",
   "execution_count": null,
   "id": "0de0afab-e532-493b-94ed-5d0e02a136f1",
   "metadata": {},
   "outputs": [],
   "source": [
    "# Save data\n",
    "print(data)\n",
    "saveRDS(data, file=\"data_from_r.rds\")"
   ]
  },
  {
   "cell_type": "markdown",
   "id": "43380c5e-e9b3-45fc-83c0-b90e03bb0692",
   "metadata": {},
   "source": [
    "## Part 3"
   ]
  },
  {
   "cell_type": "markdown",
   "id": "ba51beee-3d75-4ae8-811f-053e03efed25",
   "metadata": {},
   "source": [
    "This step is in Python. Please open [this notebook](rdata.ipynb)."
   ]
  }
 ],
 "metadata": {
  "kernelspec": {
   "display_name": "R",
   "language": "R",
   "name": "ir"
  },
  "language_info": {
   "codemirror_mode": "r",
   "file_extension": ".r",
   "mimetype": "text/x-r-source",
   "name": "R",
   "pygments_lexer": "r",
   "version": "4.3.3"
  }
 },
 "nbformat": 4,
 "nbformat_minor": 5
}
