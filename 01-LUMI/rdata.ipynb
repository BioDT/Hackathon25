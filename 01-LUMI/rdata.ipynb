{
 "cells": [
  {
   "cell_type": "markdown",
   "id": "2639f990-3607-4ef3-b654-7a9cf6a03ad1",
   "metadata": {},
   "source": [
    "# Data interchange in mixed R+Python workflows"
   ]
  },
  {
   "cell_type": "markdown",
   "id": "4e219137-7848-4caf-a727-bdd65c7f217a",
   "metadata": {},
   "source": [
    "In this notebook we demonstrate how to use [rdata](https://github.com/vnmabus/rdata) Python package ([Journal of Open Source Software **9**, 7540 (2024)](https://doi.org/10.21105/joss.07540)) to read and write R data files in Python. We'll utilize the development version of the code from [this pull request](https://github.com/vnmabus/rdata/pull/45)."
   ]
  },
  {
   "cell_type": "markdown",
   "id": "61916679-dd9a-4280-b4ad-f1d655f1fdc3",
   "metadata": {},
   "source": [
    "## Part 1"
   ]
  },
  {
   "cell_type": "markdown",
   "id": "dc7222ef-4bd1-4da9-842a-5b2673e0363a",
   "metadata": {},
   "source": [
    "Write data to an RDS file in Python."
   ]
  },
  {
   "cell_type": "code",
   "execution_count": null,
   "id": "f82efda4-9f85-4e09-9b9a-9528336942f5",
   "metadata": {},
   "outputs": [],
   "source": [
    "import numpy as np\n",
    "import pandas as pd\n",
    "import rdata"
   ]
  },
  {
   "cell_type": "code",
   "execution_count": null,
   "id": "973756f9-10f1-4997-8457-20d8e4333c4a",
   "metadata": {},
   "outputs": [],
   "source": [
    "# Test data\n",
    "data = {\n",
    "    'names': ['alpha', 'beta', 'gamma'],\n",
    "    'count': [35, 12, 42],\n",
    "}\n",
    "\n",
    "# Create dataframe\n",
    "df = pd.DataFrame(data)\n",
    "\n",
    "print(df)"
   ]
  },
  {
   "cell_type": "code",
   "execution_count": null,
   "id": "5b30c025-594b-43c3-9c62-2eab84729236",
   "metadata": {},
   "outputs": [],
   "source": [
    "# Save data\n",
    "rdata.write_rds(\"data_from_python.rds\", df)"
   ]
  },
  {
   "cell_type": "markdown",
   "id": "5b50d2c3-8c0e-464c-b62b-0a4d4f48fc56",
   "metadata": {},
   "source": [
    "## Part 2"
   ]
  },
  {
   "cell_type": "markdown",
   "id": "76bb64cc-8f95-41f1-85a6-4ba0efc613e3",
   "metadata": {},
   "source": [
    "This step is in R. Please open [this notebook](rdata_r.ipynb)."
   ]
  },
  {
   "cell_type": "markdown",
   "id": "f7c43dac-6449-4240-8cb3-10e0be0ec601",
   "metadata": {},
   "source": [
    "## Part 3"
   ]
  },
  {
   "cell_type": "markdown",
   "id": "f81e5167-382c-490c-801d-98f930ec7798",
   "metadata": {},
   "source": [
    "Read data from an RDS file in Python."
   ]
  },
  {
   "cell_type": "code",
   "execution_count": null,
   "id": "95e81309-6bf6-412a-afa1-6a37ae79a4be",
   "metadata": {},
   "outputs": [],
   "source": [
    "# Read data from R\n",
    "df = rdata.read_rds(\"data_from_r.rds\")\n",
    "print(df)"
   ]
  }
 ],
 "metadata": {
  "kernelspec": {
   "display_name": "Python 3 (ipykernel)",
   "language": "python",
   "name": "python3"
  },
  "language_info": {
   "codemirror_mode": {
    "name": "ipython",
    "version": 3
   },
   "file_extension": ".py",
   "mimetype": "text/x-python",
   "name": "python",
   "nbconvert_exporter": "python",
   "pygments_lexer": "ipython3",
   "version": "3.12.9"
  }
 },
 "nbformat": 4,
 "nbformat_minor": 5
}
