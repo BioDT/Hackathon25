{
 "cells": [
  {
   "cell_type": "markdown",
   "id": "87772f1d-4b8a-4b93-82af-b59aebcdd5d4",
   "metadata": {},
   "source": [
    "# HyperQueue"
   ]
  },
  {
   "cell_type": "markdown",
   "id": "16567f0b-aaa0-4f99-a174-fb2af7cd33bc",
   "metadata": {},
   "source": [
    "Here is an example job script running [species_list.txt](species_list.txt) in parallel by using [HyperQueue](https://it4innovations.github.io/hyperqueue/). The script is the same as used for Crop Wild Relatives pDT [here](https://github.com/BioDT/uc-CWR) except that the actual computation is replaced with a dummy Python script [hq_script.py](hq_script.py).\n",
    "\n",
    "The job script is based on [this tutorial](https://docs.csc.fi/apps/hyperqueue/), where the details of the script are explained."
   ]
  },
  {
   "cell_type": "markdown",
   "id": "151b4993-88ca-49d4-96f1-0e7a0621d1e5",
   "metadata": {},
   "source": [
    "Let's submit the hyperqueue job:"
   ]
  },
  {
   "cell_type": "code",
   "execution_count": null,
   "id": "dc5e4021-42ae-481b-b8c4-6a8206323945",
   "metadata": {},
   "outputs": [],
   "source": [
    "!sbatch hq_job.sh"
   ]
  },
  {
   "cell_type": "markdown",
   "id": "51a18221-fca7-4a9e-9d32-f62c00288801",
   "metadata": {},
   "source": [
    "Monitor the job:"
   ]
  },
  {
   "cell_type": "code",
   "execution_count": null,
   "id": "2f875873-78f1-4775-a398-b2591690225e",
   "metadata": {},
   "outputs": [],
   "source": [
    "!squeue --me"
   ]
  },
  {
   "cell_type": "markdown",
   "id": "2b64f028-fa5e-44b7-8523-f1efa281ad54",
   "metadata": {},
   "source": [
    "The job creates files under the directory `job-1`. There will be two output file for each species. For example, [job-1/0.stdout](job-1/0.stdout) is the standard text output for the first species in [species_list.txt](species_list.txt) (Lathyrus pratensis)."
   ]
  }
 ],
 "metadata": {
  "kernelspec": {
   "display_name": "Python 3 (ipykernel)",
   "language": "python",
   "name": "python3"
  },
  "language_info": {
   "codemirror_mode": {
    "name": "ipython",
    "version": 3
   },
   "file_extension": ".py",
   "mimetype": "text/x-python",
   "name": "python",
   "nbconvert_exporter": "python",
   "pygments_lexer": "ipython3",
   "version": "3.12.9"
  }
 },
 "nbformat": 4,
 "nbformat_minor": 5
}
