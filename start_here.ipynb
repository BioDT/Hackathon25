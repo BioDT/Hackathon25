{
 "cells": [
  {
   "cell_type": "markdown",
   "id": "f8fe5e8d-878c-416f-9e25-b993a8a975d6",
   "metadata": {},
   "source": [
    "# BioDT School and Hackathon 2025"
   ]
  },
  {
   "cell_type": "markdown",
   "id": "7a8927ca-e139-4f62-911a-484895ba669a",
   "metadata": {},
   "source": [
    "Here is the list of notebooks per session."
   ]
  },
  {
   "cell_type": "markdown",
   "id": "fc77f24b-570a-4a15-90e9-8f993647e853",
   "metadata": {},
   "source": [
    "## Introduction to HPC and LUMI\n",
    "\n",
    "These notebooks are in the directory `01-LUMI`.\n",
    "\n",
    "1. [Running jobs on LUMI](01-LUMI/jobs.ipynb)\n",
    "2. [Running a HyperQueue job on LUMI](01-LUMI/hyperqueue.ipynb)\n",
    "3. [Data interchange in mixed R+Python workflows](01-LUMI/rdata.ipynb)"
   ]
  },
  {
   "cell_type": "markdown",
   "id": "8650b8da-81fc-48d8-8496-01daefd046bc",
   "metadata": {},
   "source": [
    "## Introduction to open science\n",
    "\n",
    "These notebooks are in the directory `02-FAIR`.\n",
    "\n",
    "1. ..."
   ]
  },
  {
   "cell_type": "markdown",
   "id": "efa4d140-4d8d-4dd7-b73d-51e1edc41c85",
   "metadata": {},
   "source": [
    "## BioDT building block examples\n",
    "\n",
    "These notebooks are in the directory `03-BuildingBlocks`.\n",
    "\n",
    "1. [Streaming Soil Grids](03-BuildingBlocks/SoilData/soil.ipynb)"
   ]
  },
  {
   "cell_type": "markdown",
   "id": "f91755c6-8883-4baf-ba20-b1cb9770b402",
   "metadata": {},
   "source": [
    "## BioDT prototype digital twin examples\n",
    "\n",
    "These notebooks are in the directory `04-pDTs`.\n",
    "\n",
    "1. [Data Streaming Invasive Alien Species Digital Twin Outputs](04-pDTs/IASDT/IASDT-outputs.ipynb)\n",
    "2. [Combining Species IASDT Species Richness and Soil Parameters for Predictive Modelling in Southern Italy](04-pDTs/NaaVRE/naa-vre-IASDTsoils.ipynb)"
   ]
  },
  {
   "cell_type": "markdown",
   "id": "aac14d55",
   "metadata": {},
   "source": []
  }
 ],
 "metadata": {
  "kernelspec": {
   "display_name": "Python 3 (ipykernel)",
   "language": "python",
   "name": "python3"
  },
  "language_info": {
   "codemirror_mode": {
    "name": "ipython",
    "version": 3
   },
   "file_extension": ".py",
   "mimetype": "text/x-python",
   "name": "python",
   "nbconvert_exporter": "python",
   "pygments_lexer": "ipython3",
   "version": "3.12.9"
  }
 },
 "nbformat": 4,
 "nbformat_minor": 5
}
