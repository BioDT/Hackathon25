{
 "cells": [
  {
   "cell_type": "markdown",
   "id": "f8fe5e8d-878c-416f-9e25-b993a8a975d6",
   "metadata": {},
   "source": [
    "# BioDT School and Hackathon 2025"
   ]
  },
  {
   "cell_type": "markdown",
   "id": "7a8927ca-e139-4f62-911a-484895ba669a",
   "metadata": {},
   "source": [
    "Here is the list of notebooks per session."
   ]
  },
  {
   "cell_type": "markdown",
   "id": "fc77f24b-570a-4a15-90e9-8f993647e853",
   "metadata": {},
   "source": [
    "## Introduction to HPC and LUMI\n",
    "\n",
    "These notebooks are in the directory `01-LUMI`.\n",
    "\n",
    "1. [Running jobs on LUMI](01-LUMI/jobs.ipynb)\n",
    "2. [Running a HyperQueue job on LUMI](01-LUMI/hyperqueue.ipynb)\n",
    "3. [Data interchange in mixed R+Python workflows](01-LUMI/rdata.ipynb)"
   ]
  },
  {
   "cell_type": "markdown",
   "id": "8650b8da-81fc-48d8-8496-01daefd046bc",
   "metadata": {},
   "source": [
    "## Introduction to open science\n",
    "\n",
    "These notebooks are in the directory `02-FAIR`.\n",
    "\n",
    "1. [RO-Crate - Introduction](https://training.galaxyproject.org/topics/fair/tutorials/ro-crate-intro/tutorial.html?utm_source=schedule&utm_medium=click&utm_campaign=video-library)\n",
    "2. [RO-Crate in Python](https://training.galaxyproject.org/topics/fair/tutorials/ro-crate-in-python/tutorial.html?utm_source=schedule&utm_medium=click&utm_campaign=video-library)\n",
    "    - [Jupyter notebook on LUMI environment](02-FAIR/fair-ro-crate-in-python.ipynb)\n",
    "3. [Workflow Run RO-Crate Introduction](https://training.galaxyproject.org/topics/fair/tutorials/ro-crate-workflow-run-ro-crate/tutorial.html?utm_source=schedule&utm_medium=click&utm_campaign=video-library)"
   ]
  },
  {
   "cell_type": "markdown",
   "id": "efa4d140-4d8d-4dd7-b73d-51e1edc41c85",
   "metadata": {},
   "source": [
    "## BioDT building block examples\n",
    "\n",
    "These notebooks are in the directory `03-BuildingBlocks`.\n",
    "\n",
    "1. [Streaming Soil Grids](03-BuildingBlocks/SoilData/soil.ipynb)"
   ]
  },
  {
   "cell_type": "markdown",
   "id": "f91755c6-8883-4baf-ba20-b1cb9770b402",
   "metadata": {},
   "source": [
    "## BioDT prototype digital twin examples\n",
    "\n",
    "These notebooks are in the directory `04-pDTs`.\n",
    "\n",
    "1. [Data Streaming Invasive Alien Species Digital Twin Outputs](04-pDTs/IASDT/IASDT-outputs.ipynb)\n",
    "2. [Combining Species IASDT Species Richness and Soil Parameters for Predictive Modelling in Southern Italy](04-pDTs/NaaVRE/naa-vre-IASDTsoils.ipynb)"
   ]
  },
  {
   "cell_type": "markdown",
   "id": "aac14d55",
   "metadata": {},
   "source": [
    "## Troubleshooting"
   ]
  },
  {
   "cell_type": "markdown",
   "id": "459c220a-60d3-44ec-a995-0240fc09cfd4",
   "metadata": {},
   "source": [
    "### Pull updates from git"
   ]
  },
  {
   "cell_type": "markdown",
   "id": "3e605f61-e04d-4a3d-8ffe-c01dc61d4c60",
   "metadata": {},
   "source": [
    "Run the following to pull updates from [the git repository](https://github.com/BioDT/Hackathon25):"
   ]
  },
  {
   "cell_type": "code",
   "execution_count": null,
   "id": "2c1e40fe-31a0-4a94-9908-1b729d9a0836",
   "metadata": {},
   "outputs": [],
   "source": [
    "!git pull"
   ]
  },
  {
   "cell_type": "markdown",
   "id": "f78ad97f-b183-4634-a243-90d2ee5e0574",
   "metadata": {},
   "source": [
    "If the above gives an error `Your local changes to the following files would be overwritten by merge`, please copy your work from the corresponding files and run `git restore` for those files. For example:"
   ]
  },
  {
   "cell_type": "code",
   "execution_count": null,
   "id": "f53cbac3-6ff5-46a2-a840-3ac6e11b0153",
   "metadata": {},
   "outputs": [],
   "source": [
    "!git restore file.ipynb"
   ]
  },
  {
   "cell_type": "markdown",
   "id": "3f6ef730-ceff-4f04-befd-3906c1917a5d",
   "metadata": {},
   "source": [
    "Then, try again the `git pull` above."
   ]
  },
  {
   "cell_type": "markdown",
   "id": "f5329474-779c-4fb7-9441-fe0a5f055b0e",
   "metadata": {},
   "source": [
    "### Check the environment"
   ]
  },
  {
   "cell_type": "code",
   "execution_count": null,
   "id": "549e4995-c4d5-4432-8bdc-ff12feb89cdd",
   "metadata": {},
   "outputs": [],
   "source": [
    "!echo $BIODT_ENV"
   ]
  },
  {
   "cell_type": "code",
   "execution_count": null,
   "id": "3c5f9d4d-2952-41a2-8fc8-63369321a809",
   "metadata": {},
   "outputs": [],
   "source": []
  }
 ],
 "metadata": {
  "kernelspec": {
   "display_name": "Python 3 (ipykernel)",
   "language": "python",
   "name": "python3"
  },
  "language_info": {
   "codemirror_mode": {
    "name": "ipython",
    "version": 3
   },
   "file_extension": ".py",
   "mimetype": "text/x-python",
   "name": "python",
   "nbconvert_exporter": "python",
   "pygments_lexer": "ipython3",
   "version": "3.12.3"
  }
 },
 "nbformat": 4,
 "nbformat_minor": 5
}
